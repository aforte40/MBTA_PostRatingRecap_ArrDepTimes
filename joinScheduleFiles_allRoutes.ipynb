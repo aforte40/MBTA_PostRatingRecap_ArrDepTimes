{
 "cells": [
  {
   "cell_type": "code",
   "execution_count": null,
   "metadata": {
    "metadata": {}
   },
   "outputs": [],
   "source": [
    "import os\n",
    "os.environ['PYDEVD_WARN_SLOW_RESOLVE_TIMEOUT'] = '2'"
   ]
  },
  {
   "cell_type": "code",
   "execution_count": null,
   "metadata": {
    "metadata": {}
   },
   "outputs": [],
   "source": [
    "# Import libraries\n",
    "import numpy as np\n",
    "import matplotlib.pyplot as plt\n",
    "import pandas as pd\n",
    "# Set the option to prevent the FutureWarning\n",
    "pd.set_option('future.no_silent_downcasting', True)\n",
    "import datetime as dt\n",
    "from functions import *\n",
    "from dtype_dictionaries import *"
   ]
  },
  {
   "cell_type": "markdown",
   "metadata": {},
   "source": [
    "### Import files with arrival and departure times"
   ]
  },
  {
   "cell_type": "code",
   "execution_count": null,
   "metadata": {},
   "outputs": [],
   "source": [
    "# Position of the gtfs post-rating schedule files\n",
    "gtfs_post_rating_files = os.listdir('gtfsSchedule')\n",
    "# Sort the elements in alphabetical order. I need to ensure this otherwise the strategy of keeping the latest df in memory won't work\n",
    "gtfs_post_rating_files.sort()\n",
    "\n",
    "# List only the files needed later, avoid to import the whole folder\n",
    "txt_list = (['calendar.txt', 'calendar_attributes.txt', 'calendar_dates.txt', 'feed_info.txt', 'routes.txt', 'stop_times.txt', 'stops.txt', 'trips.txt'])\n",
    "# Position of MBTA_ArrivalDepartureTimes files\n",
    "ArrDepFolder = 'MBTA_ArrivalDepartureTimes'\n",
    "# Position of the  parsed ArrivalDepartureTimes files\n",
    "parsed_ArrDepFolder = 'parsed_ArrivalDepartureFiles'\n",
    "# List of files contained in the parsed_ArrivalDepartureFiles folder\n",
    "parsed_gtfs_rt = os.listdir(parsed_ArrDepFolder)\n",
    "parsed_gtfs_rt.sort()\n",
    "\n",
    "latest_month_df_list = []\n",
    "chunk_size = 10**5\n",
    "\n",
    "adt_list = []\n",
    "# Initialize to store calendar days and related services, to be converted to dataframe\n",
    "calendar_service_map = []\n",
    "# Initialize the list of dataframes to be concatenated containing all the data from gtfs rt\n",
    "df_ArrDep_list = []\n",
    "# Initialize the list of gtfs_schedules to be concatenated\n",
    "gtfs_schedules_list = []\n",
    "# Read files or import table?\n",
    "import_separate_files = False\n",
    "# Flag that will be used to skip the first element of the compatibleFiles list\n",
    "first_round = 0 \n",
    "\n",
    "for postRatingRecap_file in gtfs_post_rating_files:\n",
    "#    adt_list = []\n",
    "    print(f'Processing {postRatingRecap_file}...')\n",
    "    gtfs_post_rating_folder = os.path.join('gtfsSchedule', postRatingRecap_file)\n",
    "    calendar, calendar_attributes, calendar_dates, feed_info, routes, stop_times, stops, trips, schedule = get_gtfs_post_rating_txt_files(gtfs_post_rating_folder, txt_list, gtfs_cols)\n",
    "    # Save feed_start_date and feed_end_date\n",
    "    start_date = feed_info['feed_start_date'][0]\n",
    "    end_date = feed_info['feed_end_date'][0]\n",
    "    calendar_data = parse_calendar_file(calendar)\n",
    "    calendar_dates_data = parse_calendar_dates_file(calendar_dates)\n",
    "    calendar_schedule = generate_schedule(start_date, end_date, calendar_data, calendar_dates_data)\n",
    "    calendar_service_map.append(calendar_schedule)\n",
    "    \n",
    "    # Add schedule to the list of gtfs_schedules\n",
    "    gtfs_schedules_list.append(schedule)\n",
    "\n",
    "    if first_round:\n",
    "        # Remove first element from compatibleFiles\n",
    "        compatibleFiles = compatibleFiles[1:]\n",
    "        adt_list = adt_list + (latest_month_df_list)\n",
    "        latest_month_df_list = []\n",
    "    if import_separate_files:\n",
    "        # Return the list of compatible files\n",
    "        compatibleFiles = get_compatible_files(ArrDepFolder, start_date, end_date)\n",
    "        for filename in (compatibleFiles):   \n",
    "            print(f'Importing {filename}...')  \n",
    "            for chunk in pd.read_csv(filename, chunksize=chunk_size, dtype=adt_dtype_map, low_memory=False):\n",
    "                # Carry out here any filtering, drop or cutting down operation\n",
    "                chunk = reduce_df_size(chunk)\n",
    "                adt_list.append(chunk)\n",
    "                if filename == compatibleFiles[-1]:\n",
    "                    latest_month_df_list.append(chunk)\n",
    "        first_round = 1\n",
    "        print('Concatenating...')\n",
    "        adt_df = pd.concat(adt_list, axis=0)\n",
    "        # Filter out all the records that lie outside the feed_start_date and feed_end_date rang\n",
    "        adt_df = adjust_adt_df_settings(adt_df, routes, start_date, end_date)\n",
    "        # Save the dataframe to a csv file: filename is equal as 'feed_start_date_feed_end_date.csv'\n",
    "        export_filename = start_date.strftime('%Y%m%d') + '_' + end_date.strftime('%Y%m%d') + '.csv'\n",
    "        filepath = os.path.join('parsed_ArrivalDepartureFiles', export_filename)\n",
    "        adt_df.to_csv(filepath, index=False)\n",
    "        # Assign to adt_list the rows belonging to the latest read df\n",
    "        adt_list = []\n",
    "\n",
    "    else:        \n",
    "        # Get list index of postRatingRecap_file\n",
    "        idx = gtfs_post_rating_files.index(postRatingRecap_file)\n",
    "        parsed_file = parsed_gtfs_rt[idx]\n",
    "        print(f'Importing {parsed_file}...') \n",
    "        filepath = os.path.join(parsed_ArrDepFolder, parsed_file)\n",
    "        for chunk in pd.read_csv(filepath, chunksize=chunk_size, dtype=adt_dtype_map, low_memory=False):\n",
    "           adt_list.append(chunk)\n",
    "            \n",
    "adt_df = pd.concat(adt_list, axis=0, ignore_index=True)\n",
    "# Convert service_date, scheduled and actual columns to datetime objects\n",
    "adt_df['service_date'] = pd.to_datetime(adt_df['service_date'], format='%Y-%m-%d')\n",
    "adt_df['scheduled'] = pd.to_datetime(adt_df['scheduled'], format='%H:%M:%S')\n",
    "adt_df['actual'] = pd.to_datetime(adt_df['actual'], format='%H:%M:%S')"
   ]
  },
  {
   "cell_type": "code",
   "execution_count": null,
   "metadata": {},
   "outputs": [],
   "source": [
    "calendar_df = pd.DataFrame(calendar_service_map, columns=['date', 'day_of_week', 'service_ids'])    \n",
    "df_gtfs_schedule = pd.concat(gtfs_schedules_list, axis=0, ignore_index=True)"
   ]
  },
  {
   "cell_type": "markdown",
   "metadata": {},
   "source": [
    "### Combine arrival and departure times with scheduled information"
   ]
  },
  {
   "cell_type": "code",
   "execution_count": null,
   "metadata": {},
   "outputs": [],
   "source": [
    "adt_grouped = adt_df.copy()\n",
    "schedule_grouped = df_gtfs_schedule.copy()\n",
    "# Work with only Startpoint records in arrival departure times, will merge with Endpoint records later\n",
    "adt_grouped = adt_df.groupby(['route_id', 'direction_id', 'actual'], observed=True)\n",
    "schedule_grouped = df_gtfs_schedule.groupby(['route_id', 'direction_id', 'scheduled'], observed=True)\n",
    "\n",
    "# Create two lists to store the unmatched names and groups\n",
    "unmatched_names = []\n",
    "unmatched_groups = []\n",
    "\n",
    "for name, group in adt_grouped:\n",
    "    # print the group if an error occurs\n",
    "    if name in schedule_grouped.groups:\n",
    "        # extract the corresponding group from schedule_route10_grouped\n",
    "        schedule_group = schedule_grouped.get_group(name)\n",
    "        schedule_services = set(schedule_group['service_id'])\n",
    "        schedule_service_block_ids = schedule_group.groupby(['service_id'])['block_id'].apply(list)\n",
    "\n",
    "        # extract the subset of the calendar_df that matches the service_date\n",
    "        service_days = calendar_df.loc[calendar_df.date.isin(group.service_date)]\n",
    "        # loop through the service_days\n",
    "        for i, row in service_days.iterrows():\n",
    "            # add the intersection between schedule_services and row['service_ids'] to the service_id column in adt_route10 as plain strings\n",
    "            adt_service_ids = schedule_services.intersection(row['service_ids'])\n",
    "            adt_service_ids_str = ', '.join(adt_service_ids)  # Convert set to string\n",
    "            adt_df.loc[group.index, 'service_id'] = adt_service_ids_str\n",
    "            # Get the block_id list associated to adt_service_ids_str\n",
    "            block_list=schedule_service_block_ids[schedule_service_block_ids.index==adt_service_ids_str]\n",
    "            block_list = block_list.iloc[0] if not block_list.empty else ''\n",
    "\n",
    "            if block_list and not group.empty:\n",
    "                # Concatenate block_list elements into a comma-separated string\n",
    "                block_ids_str = ', '.join(block_list)\n",
    "                # Assign the concatenated string to the specified rows in the column\n",
    "                adt_df.loc[group.index, 'block_id'] = block_ids_str\n",
    "    else:\n",
    "        unmatched_names.append(name)\n",
    "        unmatched_groups.append(group)"
   ]
  },
  {
   "cell_type": "code",
   "execution_count": null,
   "metadata": {},
   "outputs": [],
   "source": [
    "for date in adt_df.service_date.unique():\n",
    "    print(f'Date: {date}')"
   ]
  },
  {
   "cell_type": "code",
   "execution_count": null,
   "metadata": {},
   "outputs": [],
   "source": [
    "\n",
    "print('Split Blocks')\n",
    "adt_df = split_multiple_block_id(adt_df)\n",
    "print('Assign Blocks to endpoints')\n"
   ]
  },
  {
   "cell_type": "code",
   "execution_count": null,
   "metadata": {},
   "outputs": [],
   "source": [
    "# Assign the same values of block_id and service_id to Endpoint records with the same half_trip_id\n",
    "trips_grouped = adt_df.groupby(['half_trip_id'], observed=True)\n",
    "for name, group in trips_grouped:\n",
    "    if len(group.index) > 1:\n",
    "        adt_df.loc[group.index[1], ['block_id', 'service_id']] = group.loc[group.index[0], ['block_id', 'service_id']].values\n",
    "    else:\n",
    "        print(name)\n",
    "        print(group)"
   ]
  },
  {
   "cell_type": "code",
   "execution_count": null,
   "metadata": {},
   "outputs": [],
   "source": [
    "trips_grouped = adt_df.groupby(['half_trip_id'], observed=True)\n",
    "for name, group in trips_grouped:\n",
    "    if len(group.index) > 1:\n",
    "        adt_df.loc[group.index[1], ['block_id', 'service_id']] = group.loc[group.index[0], ['block_id', 'service_id']].values\n",
    "    else:\n",
    "        print(name)\n",
    "        print(group)"
   ]
  },
  {
   "cell_type": "code",
   "execution_count": null,
   "metadata": {},
   "outputs": [],
   "source": [
    "# Assign the same values of block_id and service_id to Endpoint records with the same half_trip_id\n",
    "trips_grouped = adt_df.groupby(['half_trip_id'], observed=True)\n",
    "for name, group in trips_grouped:\n",
    "    adt_df.loc[group.index[1], ['block_id', 'service_id']] = group.loc[group.index[0], ['block_id', 'service_id']].values"
   ]
  },
  {
   "cell_type": "markdown",
   "metadata": {},
   "source": [
    "### Compute layover"
   ]
  },
  {
   "cell_type": "code",
   "execution_count": null,
   "metadata": {},
   "outputs": [],
   "source": [
    "# Create layover_df as a copy\n",
    "layover_df = adt_route10.copy()\n",
    "layover_df = layover_df.sort_values(by=['block_id','service_date','half_trip_id','departure_time'])\n",
    "layover_df=layover_df.reset_index(drop=True)\n",
    "\n",
    "# Group by 'block_id' and 'service_date', skipping rows with null 'service_id' or 'block_id'\n",
    "grouped = layover_df.loc[layover_df.block_id.notna()].groupby(['block_id', 'service_date'])\n",
    "\n",
    "# Calculate theoretical and actual layover times using diff()\n",
    "layover_df['theoretical_layover'] = grouped['departure_time'].diff().dt.total_seconds() / 60\n",
    "layover_df['actual_layover'] = grouped['actual'].diff().dt.total_seconds() / 60\n",
    "\n",
    "# Replace the first row of each group with null timedelta\n",
    "layover_df.loc[grouped.head(1).index, ['theoretical_layover', 'actual_layover']] = 0\n",
    "layover_df.loc[layover_df.time_point_order != 1, ['theoretical_layover', 'actual_layover']] = np.nan\n",
    "layover_df = layover_df.drop(columns=['time_point_order', 'point_type', 'standard_type'])\n",
    "(layover_df.groupby(['block_id', 'service_date'])[['theoretical_layover', 'actual_layover']]\n",
    "            .agg({'theoretical_layover': ['mean', 'max', 'count'],\n",
    "                  'actual_layover': ['mean', 'max', 'count'],\n",
    "                  'stop_id': 'first'})\n",
    ")"
   ]
  },
  {
   "cell_type": "code",
   "execution_count": null,
   "metadata": {},
   "outputs": [],
   "source": [
    "test = adt_route10.groupby(['half_trip_id'])\n",
    "startpoint_df = test.get_group"
   ]
  }
 ],
 "metadata": {
  "kernelspec": {
   "display_name": "Python 3",
   "language": "python",
   "name": "python3"
  },
  "language_info": {
   "codemirror_mode": {
    "name": "ipython",
    "version": 3
   },
   "file_extension": ".py",
   "mimetype": "text/x-python",
   "name": "python",
   "nbconvert_exporter": "python",
   "pygments_lexer": "ipython3",
   "version": "3.11.3"
  }
 },
 "nbformat": 4,
 "nbformat_minor": 2
}
