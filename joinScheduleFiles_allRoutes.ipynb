{
 "cells": [
  {
   "cell_type": "code",
   "execution_count": 1,
   "metadata": {
    "metadata": {}
   },
   "outputs": [],
   "source": [
    "import os\n",
    "os.environ['PYDEVD_WARN_SLOW_RESOLVE_TIMEOUT'] = '2'"
   ]
  },
  {
   "cell_type": "code",
   "execution_count": 2,
   "metadata": {
    "metadata": {}
   },
   "outputs": [],
   "source": [
    "# Import libraries\n",
    "import numpy as np\n",
    "import matplotlib.pyplot as plt\n",
    "import pandas as pd\n",
    "# Set the option to prevent the FutureWarning\n",
    "pd.set_option('future.no_silent_downcasting', True)\n",
    "import datetime as dt\n",
    "from functions import *\n",
    "from dtype_dictionaries import *"
   ]
  },
  {
   "cell_type": "markdown",
   "metadata": {},
   "source": [
    "### Import files with arrival and departure times"
   ]
  },
  {
   "cell_type": "code",
   "execution_count": 3,
   "metadata": {},
   "outputs": [
    {
     "name": "stdout",
     "output_type": "stream",
     "text": [
      "Processing 01_gtfs_post-recap_Winter_2022...\n",
      "Importing 20211219_20220312.csv...\n",
      "Concatenating...\n",
      "Converting to datetime...\n"
     ]
    }
   ],
   "source": [
    "# Position of the gtfs post-rating schedule files\n",
    "gtfs_post_rating_files = os.listdir('gtfsSchedule')\n",
    "# Sort the elements in alphabetical order. I need to ensure this otherwise the strategy of keeping the latest df in memory won't work\n",
    "gtfs_post_rating_files.sort()\n",
    "\n",
    "# List only the files needed later, avoid to import the whole folder\n",
    "txt_list = (['calendar.txt', 'calendar_attributes.txt', 'calendar_dates.txt', 'feed_info.txt', 'routes.txt', 'stop_times.txt', 'stops.txt', 'trips.txt'])\n",
    "# Position of MBTA_ArrivalDepartureTimes files\n",
    "ArrDepFolder = 'MBTA_ArrivalDepartureTimes'\n",
    "# Position of the  parsed ArrivalDepartureTimes files\n",
    "parsed_ArrDepFolder = 'parsed_ArrivalDepartureFiles'\n",
    "# List of files contained in the parsed_ArrivalDepartureFiles folder\n",
    "parsed_gtfs_rt = os.listdir(parsed_ArrDepFolder)\n",
    "parsed_gtfs_rt.sort()\n",
    "\n",
    "latest_month_df_list = []\n",
    "chunk_size = 12**5\n",
    "\n",
    "adt_list = []\n",
    "\n",
    "# Initialize to store calendar days and related services, to be converted to dataframe\n",
    "calendar_service_map = []\n",
    "# Initialize the list of dataframes to be concatenated containing all the data from gtfs rt\n",
    "df_ArrDep_list = []\n",
    "# Initialize the list of gtfs_schedules to be concatenated\n",
    "gtfs_schedules_list = []\n",
    "\n",
    "start_date_list = []\n",
    "end_date_list = []\n",
    "# Read files or import table?\n",
    "import_separate_files = False\n",
    "# Flag that will be used to skip the first element of the compatibleFiles list\n",
    "first_round = 0 \n",
    "for postRatingRecap_file in gtfs_post_rating_files[0:1]:\n",
    "    print(f'Processing {postRatingRecap_file}...')\n",
    "    gtfs_post_rating_folder = os.path.join('gtfsSchedule', postRatingRecap_file)\n",
    "    calendar, calendar_attributes, calendar_dates, feed_info, routes, stop_times, stops, trips, schedule = get_gtfs_post_rating_txt_files(gtfs_post_rating_folder, txt_list, gtfs_cols)\n",
    "    # Add schedule to the list of gtfs_schedules\n",
    "    gtfs_schedules_list.append(schedule)    \n",
    "    # Save feed_start_date and feed_end_date\n",
    "    start_date = feed_info['feed_start_date'][0]\n",
    "    start_date_list.append(start_date)\n",
    "    end_date = feed_info['feed_end_date'][0]\n",
    "    end_date_list.append(end_date)\n",
    "    calendar_data = parse_calendar_file(calendar)\n",
    "    calendar_dates_data = parse_calendar_dates_file(calendar_dates)\n",
    "    calendar_schedule = generate_schedule(start_date, end_date, calendar_data, calendar_dates_data)\n",
    "    calendar_service_map.append(calendar_schedule)\n",
    "    \n",
    "    if first_round:\n",
    "        # Remove first element from compatibleFiles\n",
    "        compatibleFiles = compatibleFiles[1:]\n",
    "        adt_list = adt_list + (latest_month_df_list)\n",
    "        latest_month_df_list = []\n",
    "    if import_separate_files:\n",
    "        # Return the list of compatible files\n",
    "        compatibleFiles = get_compatible_files(ArrDepFolder, start_date, end_date)\n",
    "        for filename in (compatibleFiles):   \n",
    "            print(f'Importing {filename}...')  \n",
    "            for chunk in pd.read_csv(filename, chunksize=chunk_size, dtype=adt_dtype_map, low_memory=False):\n",
    "                # Carry out here any filtering, drop or cutting down operation\n",
    "                chunk = reduce_df_size(chunk)\n",
    "                adt_list.append(chunk)\n",
    "                if filename == compatibleFiles[-1]:\n",
    "                    latest_month_df_list.append(chunk)\n",
    "        first_round = 1\n",
    "        print('Concatenating...')\n",
    "        #adt_df = pd.concat(adt_list, axis=0)\n",
    "        # Filter out all the records that lie outside the feed_start_date and feed_end_date rang\n",
    "        adt_df = adjust_adt_df_settings(adt_df, routes, start_date, end_date)\n",
    "        # Save the dataframe to a csv file: filename is equal as 'feed_start_date_feed_end_date.csv'\n",
    "        export_filename = start_date.strftime('%Y%m%d') + '_' + end_date.strftime('%Y%m%d') + '.csv'\n",
    "        filepath = os.path.join('parsed_ArrivalDepartureFiles', export_filename)\n",
    "        print(f'Exporting {filepath}...')\n",
    "        #adt_df.to_csv(filepath, index=False)\n",
    "\n",
    "    else:        \n",
    "        # Get list index of postRatingRecap_file\n",
    "        idx = gtfs_post_rating_files.index(postRatingRecap_file)\n",
    "        parsed_file = parsed_gtfs_rt[idx]\n",
    "        print(f'Importing {parsed_file}...') \n",
    "        filepath = os.path.join(parsed_ArrDepFolder, parsed_file)\n",
    "        for chunk in pd.read_csv(filepath, chunksize=chunk_size, dtype=adt_dtype_map, low_memory=False):\n",
    "            chunk['service_date'] = pd.to_datetime(chunk['service_date'], format='%Y-%m-%d')\n",
    "            chunk['scheduled'] = pd.to_datetime(chunk['scheduled'], format='%H:%M:%S')\n",
    "            chunk['actual'] = pd.to_datetime(chunk['actual'], format='%H:%M:%S')            \n",
    "            adt_list.append(chunk)\n",
    "\n",
    "print('Concatenating...')      \n",
    "adt_df = pd.concat(adt_list, axis=0, ignore_index=True)\n",
    "# Convert service_date, scheduled and actual columns to datetime objects\n",
    "print('Converting to datetime...')\n",
    "#adt_df['service_date'] = pd.to_datetime(adt_df['service_date'], format='%Y-%m-%d')\n",
    "#adt_df['scheduled'] = pd.to_datetime(adt_df['scheduled'], format='%H:%M:%S')\n",
    "#adt_df['actual'] = pd.to_datetime(adt_df['actual'], format='%H:%M:%S')\n",
    "\n",
    "# Build the calendar_service_map and gtfs_schedule dataframe\n",
    "# Convert every element in calendar_service_map to a dataframe\n",
    "calendar_df = pd.concat([pd.DataFrame(map, columns=['date', 'day_of_week', 'service_ids']) for map in calendar_service_map], axis=0, ignore_index=True)\n",
    "\n",
    "#df_gtfs_schedule = pd.concat(gtfs_schedules_list, axis=0, ignore_index=True)\n",
    "#adt_df_original = adt_df.copy()"
   ]
  },
  {
   "cell_type": "code",
   "execution_count": 4,
   "metadata": {},
   "outputs": [
    {
     "name": "stdout",
     "output_type": "stream",
     "text": [
      "<class 'pandas.core.frame.DataFrame'>\n",
      "RangeIndex: 1849029 entries, 0 to 1849028\n",
      "Data columns (total 13 columns):\n",
      " #   Column            Dtype         \n",
      "---  ------            -----         \n",
      " 0   service_date      datetime64[ns]\n",
      " 1   route_id          category      \n",
      " 2   direction_id      category      \n",
      " 3   half_trip_id      string        \n",
      " 4   stop_id           object        \n",
      " 5   time_point_id     object        \n",
      " 6   time_point_order  Int16         \n",
      " 7   point_type        category      \n",
      " 8   standard_type     category      \n",
      " 9   scheduled         datetime64[ns]\n",
      " 10  actual            datetime64[ns]\n",
      " 11  block_id          float64       \n",
      " 12  service_id        float64       \n",
      "dtypes: Int16(1), category(4), datetime64[ns](3), float64(2), object(2), string(1)\n",
      "memory usage: 127.0+ MB\n"
     ]
    }
   ],
   "source": [
    "#[print(f'route {route}') for route in adt_df.route_id.unique()]\n",
    "#adt_df.route_id = adt_df.route_id.str.rstrip('_')\n",
    "adt_df.info()"
   ]
  },
  {
   "cell_type": "markdown",
   "metadata": {},
   "source": [
    "### Combine arrival and departure times with scheduled information"
   ]
  },
  {
   "cell_type": "code",
   "execution_count": 11,
   "metadata": {},
   "outputs": [
    {
     "name": "stdout",
     "output_type": "stream",
     "text": [
      "Processing route 1...\n",
      "Feed start date: 2021-12-19 00:00:00, Feed end date: 2022-03-12 00:00:00\n"
     ]
    },
    {
     "ename": "KeyboardInterrupt",
     "evalue": "",
     "output_type": "error",
     "traceback": [
      "\u001b[1;31m---------------------------------------------------------------------------\u001b[0m",
      "\u001b[1;31mKeyboardInterrupt\u001b[0m                         Traceback (most recent call last)",
      "Cell \u001b[1;32mIn[11], line 13\u001b[0m\n\u001b[0;32m     10\u001b[0m \u001b[38;5;66;03m# Variable we wish to groupby\u001b[39;00m\n\u001b[0;32m     11\u001b[0m grouping_vars \u001b[38;5;241m=\u001b[39m [\u001b[38;5;124m'\u001b[39m\u001b[38;5;124mdirection_id\u001b[39m\u001b[38;5;124m'\u001b[39m, \u001b[38;5;124m'\u001b[39m\u001b[38;5;124mscheduled\u001b[39m\u001b[38;5;124m'\u001b[39m]\n\u001b[1;32m---> 13\u001b[0m \u001b[38;5;28;01mfor\u001b[39;00m route \u001b[38;5;129;01min\u001b[39;00m route_ids:\n\u001b[0;32m     14\u001b[0m     \u001b[38;5;28mprint\u001b[39m(\u001b[38;5;124mf\u001b[39m\u001b[38;5;124m'\u001b[39m\u001b[38;5;124mProcessing route \u001b[39m\u001b[38;5;132;01m{\u001b[39;00mroute\u001b[38;5;132;01m}\u001b[39;00m\u001b[38;5;124m...\u001b[39m\u001b[38;5;124m'\u001b[39m)\n\u001b[0;32m     15\u001b[0m     \u001b[38;5;66;03m# Fetch subset of the ArrivalDepartureTimes dataframe for the current route and stop_sequence ==1\u001b[39;00m\n",
      "Cell \u001b[1;32mIn[11], line 13\u001b[0m\n\u001b[0;32m     10\u001b[0m \u001b[38;5;66;03m# Variable we wish to groupby\u001b[39;00m\n\u001b[0;32m     11\u001b[0m grouping_vars \u001b[38;5;241m=\u001b[39m [\u001b[38;5;124m'\u001b[39m\u001b[38;5;124mdirection_id\u001b[39m\u001b[38;5;124m'\u001b[39m, \u001b[38;5;124m'\u001b[39m\u001b[38;5;124mscheduled\u001b[39m\u001b[38;5;124m'\u001b[39m]\n\u001b[1;32m---> 13\u001b[0m \u001b[38;5;28;01mfor\u001b[39;00m route \u001b[38;5;129;01min\u001b[39;00m route_ids:\n\u001b[0;32m     14\u001b[0m     \u001b[38;5;28mprint\u001b[39m(\u001b[38;5;124mf\u001b[39m\u001b[38;5;124m'\u001b[39m\u001b[38;5;124mProcessing route \u001b[39m\u001b[38;5;132;01m{\u001b[39;00mroute\u001b[38;5;132;01m}\u001b[39;00m\u001b[38;5;124m...\u001b[39m\u001b[38;5;124m'\u001b[39m)\n\u001b[0;32m     15\u001b[0m     \u001b[38;5;66;03m# Fetch subset of the ArrivalDepartureTimes dataframe for the current route and stop_sequence ==1\u001b[39;00m\n",
      "File \u001b[1;32m~\\AppData\\Roaming\\Python\\Python311\\site-packages\\debugpy\\_vendored\\pydevd\\_pydevd_bundle\\pydevd_frame.py:1197\u001b[0m, in \u001b[0;36mPyDBFrame.trace_dispatch\u001b[1;34m(self, frame, event, arg)\u001b[0m\n\u001b[0;32m   1195\u001b[0m \u001b[38;5;28;01mif\u001b[39;00m is_line:\n\u001b[0;32m   1196\u001b[0m     \u001b[38;5;28mself\u001b[39m\u001b[38;5;241m.\u001b[39mset_suspend(thread, step_cmd, original_step_cmd\u001b[38;5;241m=\u001b[39minfo\u001b[38;5;241m.\u001b[39mpydev_original_step_cmd)\n\u001b[1;32m-> 1197\u001b[0m     \u001b[38;5;28;43mself\u001b[39;49m\u001b[38;5;241;43m.\u001b[39;49m\u001b[43mdo_wait_suspend\u001b[49m\u001b[43m(\u001b[49m\u001b[43mthread\u001b[49m\u001b[43m,\u001b[49m\u001b[43m \u001b[49m\u001b[43mframe\u001b[49m\u001b[43m,\u001b[49m\u001b[43m \u001b[49m\u001b[43mevent\u001b[49m\u001b[43m,\u001b[49m\u001b[43m \u001b[49m\u001b[43marg\u001b[49m\u001b[43m)\u001b[49m\n\u001b[0;32m   1198\u001b[0m \u001b[38;5;28;01melif\u001b[39;00m is_return:  \u001b[38;5;66;03m# return event\u001b[39;00m\n\u001b[0;32m   1199\u001b[0m     back \u001b[38;5;241m=\u001b[39m frame\u001b[38;5;241m.\u001b[39mf_back\n",
      "File \u001b[1;32m~\\AppData\\Roaming\\Python\\Python311\\site-packages\\debugpy\\_vendored\\pydevd\\_pydevd_bundle\\pydevd_frame.py:165\u001b[0m, in \u001b[0;36mPyDBFrame.do_wait_suspend\u001b[1;34m(self, *args, **kwargs)\u001b[0m\n\u001b[0;32m    164\u001b[0m \u001b[38;5;28;01mdef\u001b[39;00m \u001b[38;5;21mdo_wait_suspend\u001b[39m(\u001b[38;5;28mself\u001b[39m, \u001b[38;5;241m*\u001b[39margs, \u001b[38;5;241m*\u001b[39m\u001b[38;5;241m*\u001b[39mkwargs):\n\u001b[1;32m--> 165\u001b[0m     \u001b[38;5;28;43mself\u001b[39;49m\u001b[38;5;241;43m.\u001b[39;49m\u001b[43m_args\u001b[49m\u001b[43m[\u001b[49m\u001b[38;5;241;43m0\u001b[39;49m\u001b[43m]\u001b[49m\u001b[38;5;241;43m.\u001b[39;49m\u001b[43mdo_wait_suspend\u001b[49m\u001b[43m(\u001b[49m\u001b[38;5;241;43m*\u001b[39;49m\u001b[43margs\u001b[49m\u001b[43m,\u001b[49m\u001b[43m \u001b[49m\u001b[38;5;241;43m*\u001b[39;49m\u001b[38;5;241;43m*\u001b[39;49m\u001b[43mkwargs\u001b[49m\u001b[43m)\u001b[49m\n",
      "File \u001b[1;32m~\\AppData\\Roaming\\Python\\Python311\\site-packages\\debugpy\\_vendored\\pydevd\\pydevd.py:2070\u001b[0m, in \u001b[0;36mPyDB.do_wait_suspend\u001b[1;34m(self, thread, frame, event, arg, exception_type)\u001b[0m\n\u001b[0;32m   2067\u001b[0m             from_this_thread\u001b[38;5;241m.\u001b[39mappend(frame_custom_thread_id)\n\u001b[0;32m   2069\u001b[0m     \u001b[38;5;28;01mwith\u001b[39;00m \u001b[38;5;28mself\u001b[39m\u001b[38;5;241m.\u001b[39m_threads_suspended_single_notification\u001b[38;5;241m.\u001b[39mnotify_thread_suspended(thread_id, thread, stop_reason):\n\u001b[1;32m-> 2070\u001b[0m         keep_suspended \u001b[38;5;241m=\u001b[39m \u001b[38;5;28;43mself\u001b[39;49m\u001b[38;5;241;43m.\u001b[39;49m\u001b[43m_do_wait_suspend\u001b[49m\u001b[43m(\u001b[49m\u001b[43mthread\u001b[49m\u001b[43m,\u001b[49m\u001b[43m \u001b[49m\u001b[43mframe\u001b[49m\u001b[43m,\u001b[49m\u001b[43m \u001b[49m\u001b[43mevent\u001b[49m\u001b[43m,\u001b[49m\u001b[43m \u001b[49m\u001b[43marg\u001b[49m\u001b[43m,\u001b[49m\u001b[43m \u001b[49m\u001b[43msuspend_type\u001b[49m\u001b[43m,\u001b[49m\u001b[43m \u001b[49m\u001b[43mfrom_this_thread\u001b[49m\u001b[43m,\u001b[49m\u001b[43m \u001b[49m\u001b[43mframes_tracker\u001b[49m\u001b[43m)\u001b[49m\n\u001b[0;32m   2072\u001b[0m frames_list \u001b[38;5;241m=\u001b[39m \u001b[38;5;28;01mNone\u001b[39;00m\n\u001b[0;32m   2074\u001b[0m \u001b[38;5;28;01mif\u001b[39;00m keep_suspended:\n\u001b[0;32m   2075\u001b[0m     \u001b[38;5;66;03m# This means that we should pause again after a set next statement.\u001b[39;00m\n",
      "File \u001b[1;32m~\\AppData\\Roaming\\Python\\Python311\\site-packages\\debugpy\\_vendored\\pydevd\\pydevd.py:2106\u001b[0m, in \u001b[0;36mPyDB._do_wait_suspend\u001b[1;34m(self, thread, frame, event, arg, suspend_type, from_this_thread, frames_tracker)\u001b[0m\n\u001b[0;32m   2103\u001b[0m         \u001b[38;5;28mself\u001b[39m\u001b[38;5;241m.\u001b[39m_call_input_hook()\n\u001b[0;32m   2105\u001b[0m     \u001b[38;5;28mself\u001b[39m\u001b[38;5;241m.\u001b[39mprocess_internal_commands()\n\u001b[1;32m-> 2106\u001b[0m     time\u001b[38;5;241m.\u001b[39msleep(\u001b[38;5;241m0.01\u001b[39m)\n\u001b[0;32m   2108\u001b[0m \u001b[38;5;28mself\u001b[39m\u001b[38;5;241m.\u001b[39mcancel_async_evaluation(get_current_thread_id(thread), \u001b[38;5;28mstr\u001b[39m(\u001b[38;5;28mid\u001b[39m(frame)))\n\u001b[0;32m   2110\u001b[0m \u001b[38;5;66;03m# process any stepping instructions\u001b[39;00m\n",
      "\u001b[1;31mKeyboardInterrupt\u001b[0m: "
     ]
    }
   ],
   "source": [
    "# Create two lists to store the unmatched names and groups\n",
    "unmatched_names = []\n",
    "unmatched_groups = []\n",
    "\n",
    "route_ids = adt_df['route_id'].unique()\n",
    "# From the start and end date lists, extract the feed_start_date and feed_end_date and convert them to datetime ranges\n",
    "feed_start_date = pd.to_datetime(start_date_list, format='%Y%m%d')\n",
    "feed_end_date = pd.to_datetime(end_date_list, format='%Y%m%d')\n",
    "\n",
    "# Variable we wish to groupby\n",
    "grouping_vars = ['direction_id', 'scheduled']\n",
    "\n",
    "for route in route_ids:\n",
    "    print(f'Processing route {route}...')\n",
    "    # Fetch subset of the ArrivalDepartureTimes dataframe for the current route and stop_sequence ==1\n",
    "    adt_route = adt_df.loc[(adt_df['route_id'] == route) & (adt_df['point_type'] == 'Startpoint')]\n",
    "\n",
    "    for feeds in zip(feed_start_date[0:1], feed_end_date[0:1], calendar_service_map[0:1], gtfs_schedules_list[0:1]):\n",
    "        # Print the feed_start_date and feed_end_date\n",
    "        print(f'Feed start date: {feeds[0]}, Feed end date: {feeds[1]}')\n",
    "        #Filter adt_df to keep only the rows that lie within the feed_start_date and feed_end_date range\n",
    "        date_filter = (adt_route['service_date'] >= feeds[0]) & (adt_route['service_date'] <= feeds[1])\n",
    "        adt_grouped = adt_route[date_filter]\n",
    "        service_map = feeds[2]\n",
    "        gtfs_schedule = feeds[3]\n",
    "        # Fetch subset of the GTFS schedule dataframe for the current route\n",
    "        schedule_route = gtfs_schedule[(gtfs_schedule['route_id'] == route)&(gtfs_schedule['stop_sequence'] == 1)]\n",
    "\n",
    "        adt_grouped = adt_grouped.groupby(grouping_vars, observed=True)\n",
    "        schedule_grouped = schedule_route.groupby(grouping_vars, observed=True)\n",
    "    \n",
    "        for name, group in adt_grouped:\n",
    "            # print the group name\n",
    "            #print(f'{name}...')\n",
    "            if name in schedule_grouped.groups:\n",
    "                # extract the corresponding group from schedule_route10_grouped\n",
    "                schedule_group = schedule_grouped.get_group(name)\n",
    "                schedule_services = set(schedule_group['service_id'])\n",
    "                # This is a series whose index is the service_id and the values are the block_ids\n",
    "                schedule_service_block_ids = schedule_group.groupby(['service_id'], observed=True)['block_id'].apply(list)\n",
    "\n",
    "                # extract the subset of the calendar_df that matches the service_date\n",
    "                service_days = calendar_df.loc[calendar_df.date.isin(group.service_date)]\n",
    "                # loop through the service_days\n",
    "                for i, row in service_days.iterrows():\n",
    "                    # add the intersection between schedule_services and row['service_ids'] to the service_id column in adt_route10 as plain strings\n",
    "                    adt_service_ids = schedule_services.intersection(row['service_ids'])\n",
    "                    adt_service_ids_str = ', '.join(adt_service_ids)  # Convert set to string\n",
    "                    calendar_idx = group.loc[group.service_date == row.date].index\n",
    "                    half_trip_id_value = adt_df.loc[calendar_idx, 'half_trip_id'].values[0]\n",
    "                    # Assign service_id to row with Startpoint\n",
    "                    adt_df.loc[calendar_idx, 'service_id'] = adt_service_ids_str\n",
    "                    # Assign half_trip_id to row with Endpoint --> this is the same as the half_trip_id of the corresponding Startpoint\n",
    "                    adt_df.loc[adt_df.half_trip_id == half_trip_id_value, 'service_id'] = adt_service_ids_str\n",
    "                    # Get the block_id list associated to adt_service_ids_str\n",
    "                    block_list=schedule_service_block_ids[schedule_service_block_ids.index==adt_service_ids_str]\n",
    "                    block_list = block_list.iloc[0] if not block_list.empty else ''\n",
    "\n",
    "                    if block_list and not group.empty:\n",
    "                        # Concatenate block_list elements into a comma-separated string\n",
    "                        block_ids_str = ', '.join(block_list)\n",
    "                        # Assign the concatenated string to the Startpoint row\n",
    "                        adt_df.loc[calendar_idx, 'block_id'] = block_ids_str\n",
    "                        # Assign the concatenated string to the Endpoint row\n",
    "                        adt_df.loc[adt_df.half_trip_id == half_trip_id_value, 'block_id'] = block_ids_str\n",
    "\n",
    "            else:\n",
    "                #print(f'No match found for group {name}...')\n",
    "                unmatched_names.append(name)\n",
    "                unmatched_groups.append(group)\n",
    "\n",
    "    # Save the route-specific df to a csv file\n",
    "    export_filename = route + '.csv'\n",
    "    filepath = os.path.join('block_ids_df', export_filename)\n",
    "    adt_df.loc[adt_df.route_id == route].to_csv(filepath, index=False)"
   ]
  },
  {
   "cell_type": "code",
   "execution_count": null,
   "metadata": {},
   "outputs": [],
   "source": [
    "adt_df_block_ids = adt_df.copy()\n",
    "# Remove the rows with empty block_id\n",
    "adt_df_block_ids = adt_df_block_ids[adt_df_block_ids['block_id'].notna()]\n",
    "# Remove Midpoint rows\n",
    "adt_df_block_ids = adt_df_block_ids[adt_df_block_ids['block_id'] != 'Midpoint']\n",
    "# Find the rows where block_id contains more than one element\n",
    "adt_df_block_ids[adt_df_block_ids['block_id'].str.contains(',')]"
   ]
  },
  {
   "cell_type": "code",
   "execution_count": null,
   "metadata": {},
   "outputs": [],
   "source": [
    "print('Split Blocks')\n",
    "adt_df_block_ids = split_multiple_block_id(adt_df_block_ids)\n",
    "print('Assign Blocks to endpoints')"
   ]
  },
  {
   "cell_type": "code",
   "execution_count": null,
   "metadata": {},
   "outputs": [],
   "source": [
    "# Assign the same values of block_id and service_id to Endpoint records with the same half_trip_id\n",
    "trips_grouped = adt_df.groupby(['half_trip_id'], observed=True)\n",
    "for name, group in trips_grouped:\n",
    "    if len(group.index) > 1:\n",
    "        adt_df.loc[group.index[1], ['block_id', 'service_id']] = group.loc[group.index[0], ['block_id', 'service_id']].values\n",
    "    else:\n",
    "        print(name)\n",
    "        print(group)"
   ]
  },
  {
   "cell_type": "code",
   "execution_count": null,
   "metadata": {},
   "outputs": [],
   "source": [
    "trips_grouped = adt_df.groupby(['half_trip_id'], observed=True)\n",
    "for name, group in trips_grouped:\n",
    "    if len(group.index) > 1:\n",
    "        adt_df.loc[group.index[1], ['block_id', 'service_id']] = group.loc[group.index[0], ['block_id', 'service_id']].values\n",
    "    else:\n",
    "        print(name)\n",
    "        print(group)"
   ]
  },
  {
   "cell_type": "code",
   "execution_count": null,
   "metadata": {},
   "outputs": [],
   "source": [
    "# Assign the same values of block_id and service_id to Endpoint records with the same half_trip_id\n",
    "trips_grouped = adt_df.groupby(['half_trip_id'], observed=True)\n",
    "for name, group in trips_grouped:\n",
    "    adt_df.loc[group.index[1], ['block_id', 'service_id']] = group.loc[group.index[0], ['block_id', 'service_id']].values"
   ]
  },
  {
   "cell_type": "markdown",
   "metadata": {},
   "source": [
    "### Compute layover"
   ]
  },
  {
   "cell_type": "code",
   "execution_count": null,
   "metadata": {},
   "outputs": [],
   "source": [
    "# Create layover_df as a copy\n",
    "layover_df = adt_route10.copy()\n",
    "layover_df = layover_df.sort_values(by=['block_id','service_date','half_trip_id','departure_time'])\n",
    "layover_df=layover_df.reset_index(drop=True)\n",
    "\n",
    "# Group by 'block_id' and 'service_date', skipping rows with null 'service_id' or 'block_id'\n",
    "grouped = layover_df.loc[layover_df.block_id.notna()].groupby(['block_id', 'service_date'])\n",
    "\n",
    "# Calculate theoretical and actual layover times using diff()\n",
    "layover_df['theoretical_layover'] = grouped['departure_time'].diff().dt.total_seconds() / 60\n",
    "layover_df['actual_layover'] = grouped['actual'].diff().dt.total_seconds() / 60\n",
    "\n",
    "# Replace the first row of each group with null timedelta\n",
    "layover_df.loc[grouped.head(1).index, ['theoretical_layover', 'actual_layover']] = 0\n",
    "layover_df.loc[layover_df.time_point_order != 1, ['theoretical_layover', 'actual_layover']] = np.nan\n",
    "layover_df = layover_df.drop(columns=['time_point_order', 'point_type', 'standard_type'])\n",
    "(layover_df.groupby(['block_id', 'service_date'])[['theoretical_layover', 'actual_layover']]\n",
    "            .agg({'theoretical_layover': ['mean', 'max', 'count'],\n",
    "                  'actual_layover': ['mean', 'max', 'count'],\n",
    "                  'stop_id': 'first'})\n",
    ")"
   ]
  },
  {
   "cell_type": "code",
   "execution_count": null,
   "metadata": {},
   "outputs": [],
   "source": [
    "test = adt_route10.groupby(['half_trip_id'])\n",
    "startpoint_df = test.get_group"
   ]
  }
 ],
 "metadata": {
  "kernelspec": {
   "display_name": "Python 3",
   "language": "python",
   "name": "python3"
  },
  "language_info": {
   "codemirror_mode": {
    "name": "ipython",
    "version": 3
   },
   "file_extension": ".py",
   "mimetype": "text/x-python",
   "name": "python",
   "nbconvert_exporter": "python",
   "pygments_lexer": "ipython3",
   "version": "3.11.3"
  }
 },
 "nbformat": 4,
 "nbformat_minor": 2
}
