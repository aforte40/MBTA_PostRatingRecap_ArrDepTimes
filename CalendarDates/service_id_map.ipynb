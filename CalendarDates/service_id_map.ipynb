{
 "cells": [
  {
   "cell_type": "code",
   "execution_count": null,
   "metadata": {},
   "outputs": [],
   "source": [
    "import pandas as pd\n",
    "import datetime as dt\n",
    "import os\n",
    "\n",
    "def parse_calendar_file(gtfs_calendar): #diventa direttamente il dataframe calendar\n",
    "    #calendar_df = pd.read_csv(calendar_file_path)\n",
    "    # Convert start_date and end_date to datetime objects\n",
    "\n",
    "    # Questo anche è già operato dalla funzione get_gtfs_post_rating_txt_files\n",
    "\n",
    "    #gtfs_calendar['start_date'] = pd.to_datetime(gtfs_calendar['start_date'], format='%Y%m%d')\n",
    "    #gtfs_calendar['end_date'] = pd.to_datetime(gtfs_calendar['end_date'], format='%Y%m%d')\n",
    "\n",
    "    calendar_data = {}\n",
    "    for index, row in gtfs_calendar.iterrows():\n",
    "        service_id = row['service_id']\n",
    "        start_date = row['start_date']\n",
    "        end_date = row['end_date']\n",
    "        days = row[['monday', 'tuesday', 'wednesday', 'thursday', 'friday', 'saturday', 'sunday']]\n",
    "        for date in pd.date_range(start_date, end_date):\n",
    "            if date not in calendar_data:\n",
    "                calendar_data[date] = set()\n",
    "            if days.iloc[date.dayofweek] == 1:\n",
    "                calendar_data[date].add(service_id)\n",
    "    return calendar_data\n",
    "\n",
    "def parse_calendar_dates_file(gtfs_calendar_dates):\n",
    "    #questo già fatto \n",
    "    # calendar_dates_df = pd.read_csv(calendar_dates_file_path)\n",
    "    #Anche questo già fatto\n",
    "    # Convert date to datetime object\n",
    "    #calendar_dates_df['date'] = pd.to_datetime(calendar_dates_df['date'], format='%Y%m%d')\n",
    "    calendar_dates_data = {}\n",
    "    for index, row in gtfs_calendar_dates.iterrows():\n",
    "        service_id = row['service_id']\n",
    "        date = row['date']\n",
    "        exception_type = row['exception_type']\n",
    "        if date not in calendar_dates_data:\n",
    "            calendar_dates_data[date] = set()\n",
    "        if exception_type == 1:\n",
    "            calendar_dates_data[date].add(service_id)\n",
    "        elif exception_type == 2:\n",
    "            if service_id in calendar_dates_data[date]:\n",
    "                calendar_dates_data[date].remove(service_id)\n",
    "    return calendar_dates_data\n",
    "\n",
    "def generate_schedule(feed_start_date, feed_end_date, calendar_data, calendar_dates_data):\n",
    "    schedule = []\n",
    "    for date in pd.date_range(feed_start_date, feed_end_date):\n",
    "        day_of_week = date.strftime('%A')\n",
    "        service_ids = calendar_data.get(date, set()) | calendar_dates_data.get(date, set())\n",
    "        schedule.append((date, day_of_week, service_ids))\n",
    "    return schedule"
   ]
  },
  {
   "cell_type": "code",
   "execution_count": null,
   "metadata": {},
   "outputs": [],
   "source": [
    "working_path = 'C:\\\\Users\\\\antonio.forte\\\\Dropbox (MIT)\\\\GitHub\\\\getGTFS-RT\\\\MBTA_PostRatingRecap_ArrDepTimes'\n",
    "calendar_file_path = os.path.join(working_path, 'gtfsSchedule','gtfs_2022-12-18_2023-03-11_Winter2023PostRecap','calendar.txt')\n",
    "calendar_dates_file_path = os.path.join(working_path, 'gtfsSchedule','gtfs_2022-12-18_2023-03-11_Winter2023PostRecap','calendar_dates.txt')\n",
    "feed_info_file_path = os.path.join(working_path, 'gtfsSchedule','gtfs_2022-12-18_2023-03-11_Winter2023PostRecap','feed_info.txt')\n",
    "\n",
    "feed_start_date, feed_end_date = parse_feed_info_file(feed_info_file_path)\n",
    "calendar_data = parse_calendar_file(calendar_file_path)\n",
    "calendar_dates_data = parse_calendar_dates_file(calendar_dates_file_path)\n",
    "calendar = generate_schedule(feed_start_date, feed_end_date, calendar_data, calendar_dates_data)\n",
    "calendar_df = pd.DataFrame(calendar, columns=['date', 'day_of_week', 'service_ids'])\n",
    "\n",
    "calendar_df.head()"
   ]
  },
  {
   "cell_type": "code",
   "execution_count": null,
   "metadata": {},
   "outputs": [],
   "source": [
    "bus_service = [           'WinterWeekday',          'BUS123-C-Wdy-02',\n",
    "           'WinterSaturday',    'MartinLutherKingDay-1',\n",
    "             'WinterSunday', 'ChristmasDay(Observed)-1',\n",
    "           'ChristmasDay-1',          'BUS123-A-Wdy-02',\n",
    "          'BUS123-2-Wdy-02',          'BUS123-5-Wdy-02',\n",
    "          'BUS123-4-Wdy-02',          'BUS123-3-Wdy-02',\n",
    "          'BUS123-6-Wdy-02',          'BUS123-1-Wdy-02',\n",
    "          'BUS123-7-Wdy-02',          'BUS123-8-Wdy-02',\n",
    "          'BUS123-9-Wdy-02',          'BUS123-B-Wdy-02',\n",
    "         'PRIV123-6-Wdy-01',         'PRIV123-1-Wdy-01',\n",
    "          'PRIV123-2-Sa-01',         'PRIV123-3-Wdy-01',\n",
    "          'PRIV123-4-Sa-01',          'PRIV123-5-Su-01']\n",
    "\n",
    "# Remove all services that are not bus services\n",
    "schedule_df['bus_service'] = schedule_df['service_ids'].apply(lambda x: x & set(bus_service))\n",
    "schedule_df = schedule_df[schedule_df['bus_service'].apply(len) > 0]\n",
    "schedule_df = schedule_df.drop(columns='service_ids')"
   ]
  },
  {
   "cell_type": "code",
   "execution_count": null,
   "metadata": {},
   "outputs": [],
   "source": [
    "df2 = schedule_df.copy()\n",
    "january_bus_service = df2.loc[(df2['date'].dt.month == 1) & (df2['date'].dt.year == 2023),['date', 'bus_service']]\n",
    "print(january_bus_service)\n",
    "route_10_services = [            'WinterSunday', 'ChristmasDay(Observed)-1',\n",
    "           'ChristmasDay-1',          'BUS123-5-Wdy-02',\n",
    "          'BUS123-4-Wdy-02',          'BUS123-3-Wdy-02',\n",
    "          'BUS123-6-Wdy-02']\n",
    "# Build a series containing the intersection of the bus services and the route 10 services for every date\n",
    "january_bus_service['route_10_services'] = january_bus_service['bus_service'].apply(lambda x: x & set(route_10_services))\n",
    "january_bus_service['route_10_services'].reset_index(drop=True)"
   ]
  }
 ],
 "metadata": {
  "kernelspec": {
   "display_name": "Python 3",
   "language": "python",
   "name": "python3"
  },
  "language_info": {
   "codemirror_mode": {
    "name": "ipython",
    "version": 3
   },
   "file_extension": ".py",
   "mimetype": "text/x-python",
   "name": "python",
   "nbconvert_exporter": "python",
   "pygments_lexer": "ipython3",
   "version": "3.11.3"
  }
 },
 "nbformat": 4,
 "nbformat_minor": 2
}
